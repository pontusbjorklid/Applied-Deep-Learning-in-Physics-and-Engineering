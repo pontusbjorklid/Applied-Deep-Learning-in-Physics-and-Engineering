{
  "cells": [
    {
      "cell_type": "markdown",
      "metadata": {
        "id": "rF2trPuyzm9C"
      },
      "source": [
        "# Exercise 5.1\n"
      ]
    },
    {
      "cell_type": "code",
      "execution_count": 2,
      "metadata": {
        "id": "ipcsUFDUzm9C"
      },
      "outputs": [],
      "source": [
        "import numpy as np\n",
        "import matplotlib.pyplot as plt\n",
        "from tqdm import tqdm"
      ]
    },
    {
      "cell_type": "markdown",
      "metadata": {
        "id": "MCJe_ITJzm9G"
      },
      "source": [
        "**Simple Network**\n",
        "\n",
        "We continue with the dataset first encountered in the previous exercise. Please refer to the discussion there for an introduction to the data and the learning objective.\n",
        "\n",
        "Here, we manually implement a simple network architecture"
      ]
    },
    {
      "cell_type": "code",
      "execution_count": null,
      "metadata": {
        "colab": {
          "base_uri": "https://localhost:8080/"
        },
        "id": "NopU99AT9G7s",
        "outputId": "d7e8848e-b9c0-4eb4-8f18-5acda9d8c343"
      },
      "outputs": [
        {
          "name": "stdout",
          "output_type": "stream",
          "text": [
            "/bin/sh: wget: command not found\r\n"
          ]
        }
      ],
      "source": [
        "# The code snippet below is responsible for downloading the dataset\n",
        "# - for example when running via Google Colab.\n",
        "#\n",
        "# You can also directly download the file using the link if you work\n",
        "# with a local setup (in that case, ignore the !wget)\n",
        "\n",
        "!wget https://archive.ics.uci.edu/ml/machine-learning-databases/wine-quality/winequality-white.csv"
      ]
    },
    {
      "cell_type": "code",
      "execution_count": 3,
      "metadata": {
        "colab": {
          "base_uri": "https://localhost:8080/"
        },
        "id": "5ONqeI5Uzm9H",
        "outputId": "d31ba8d4-cf0a-4f25-8a93-9091c0dd041a"
      },
      "outputs": [
        {
          "name": "stdout",
          "output_type": "stream",
          "text": [
            "data: (4898, 12)\n",
            "First example:\n",
            "Features: [-1.01304317  0.01745194  0.04800112 -0.94476527  3.35203347 -0.13572658\n",
            " -0.80860543 -0.64447785  0.01148034 -0.96260494 -0.2553989 ]\n",
            "Quality: 6.0\n"
          ]
        }
      ],
      "source": [
        "# Before working with the data,\n",
        "# we download and prepare all features\n",
        "\n",
        "# load all examples from the file\n",
        "data = np.genfromtxt('winequality-white.csv',delimiter=\";\",skip_header=1)\n",
        "\n",
        "print(\"data:\", data.shape)\n",
        "\n",
        "# Prepare for proper training\n",
        "np.random.shuffle(data) # randomly sort examples\n",
        "\n",
        "#Normalize each feature\n",
        "for i in range(11):\n",
        "    data[:,i] = (data[:,i] - np.mean(data[:,i])) / np.std(data[:,i])\n",
        "\n",
        "# take the first 3000 examples for training\n",
        "# (remember array slicing from last week)\n",
        "X_train = data[:3000,:11] # all features except last column\n",
        "y_train = data[:3000,11]  # quality column\n",
        "\n",
        "# and the remaining examples for testing\n",
        "X_test = data[3000:,:11] # all features except last column\n",
        "y_test = data[3000:,11] # quality column\n",
        "\n",
        "print(\"First example:\")\n",
        "print(\"Features:\", X_train[0])\n",
        "print(\"Quality:\", y_train[0])"
      ]
    },
    {
      "cell_type": "markdown",
      "metadata": {
        "id": "jiwnyNHpzm9L"
      },
      "source": [
        "# Problems\n",
        "\n",
        "The goal is to implement the training of a neural network with one input layer, one hidden layer, and one output layer using gradient descent. We first (below) define the matrices and initialise with random values. We need W, b, W' and b'. The shapes will be:\n",
        "  * W: (number of hidden nodes, number of inputs) named `W`\n",
        "  * b: (number of hidden nodes) named `b`\n",
        "  * W': (number of hidden nodes) named `Wp`\n",
        "  * b': (one) named `bp`\n",
        "\n",
        "Your tasks are:     \n",
        "   * Implement a forward pass of the network as `dnn` (see below)\n",
        "   * Implement a function that uses one data point to update the weights using gradient descent. You can follow the `update_weights` skeleton below\n",
        "   * Now you can use the code below (training loop and evaluation) to train the network for multiple data points and even over several epochs. Try to find a set of hyperparameters (number of nodes in the hidden layer, learning rate, number of training epochs) that gives stable results. What is the best result (as measured by the loss on the training sample) you can get?"
      ]
    },
    {
      "cell_type": "code",
      "execution_count": 4,
      "metadata": {
        "id": "gRzvovJvkQB1",
        "outputId": "d3b82658-d45c-4a84-a79f-eee8a6db2bce"
      },
      "outputs": [
        {
          "name": "stdout",
          "output_type": "stream",
          "text": [
            "(50, 11)\n",
            "(50,)\n",
            "(50,)\n",
            "(1,)\n"
          ]
        }
      ],
      "source": [
        "# Initialise weights with suitable random distributions\n",
        "hidden_nodes = 50 # number of nodes in the hidden layer\n",
        "n_inputs = 11 # input features in the dataset\n",
        "\n",
        "W = np.random.randn(hidden_nodes,11)*np.sqrt(2./n_inputs)\n",
        "b = np.random.randn(hidden_nodes)*np.sqrt(2./n_inputs)\n",
        "Wp = np.random.randn(hidden_nodes)*np.sqrt(2./hidden_nodes)\n",
        "bp = np.random.randn((1))\n",
        "\n",
        "print(W.shape)\n",
        "print(b.shape)\n",
        "print(Wp.shape)\n",
        "print(bp.shape)"
      ]
    },
    {
      "cell_type": "code",
      "execution_count": 5,
      "metadata": {
        "id": "ZI4TGelKkQB2"
      },
      "outputs": [],
      "source": [
        "# You can use this implementation of the ReLu activation function\n",
        "def relu(x):\n",
        "    return np.maximum(x, 0)"
      ]
    },
    {
      "cell_type": "code",
      "execution_count": 6,
      "metadata": {
        "id": "qzR88W_okQB2"
      },
      "outputs": [],
      "source": [
        "def dnn(x,W,b,Wp,bp):\n",
        "    # TODO Calculate and return network output of forward pass\n",
        "    # See Hint 1 for additional information\n",
        "    return np.dot(Wp,relu(np.dot(W,x)+b))+bp\n",
        "\n",
        "    #return -1 # change to the calculated output"
      ]
    },
    {
      "cell_type": "code",
      "execution_count": 7,
      "metadata": {
        "id": "rFp4e-RhkQB3"
      },
      "outputs": [],
      "source": [
        "def update_weights(x,y, W, b, Wp, bp):\n",
        "    \n",
        "    learning_rate = 0.001\n",
        "\n",
        "    # TODO: Calculate the network output (use the function dnn defined above)\n",
        "    y_pred = dnn(x,W,b,Wp,bp)\n",
        "\n",
        "    # TODO: Derive the gradient for each of W,b,Wp,bp by taking the partial\n",
        "    # derivative of the loss function with respect to the variable and\n",
        "    # then implement the resulting weight-update procedure\n",
        "    # See Hint 2 for additional information\n",
        "    bp_grad = 2*(y_pred-y)\n",
        "    #outputs a (1,) vector\n",
        "    \n",
        "    b_grad = 2*(y_pred-y)*Wp*np.heaviside((np.dot(W,x)+b),0)\n",
        "    #outputs a (50,) vector\n",
        "\n",
        "    Wp_grad = 2*(y_pred-y)*relu((np.dot(W,x)+b))\n",
        "    #outputs a (50,) vector\n",
        "\n",
        "    W_grad = np.outer(b_grad,x)\n",
        "    #outputs a (50,11) matrix\n",
        "    \n",
        "    # You might need these numpy functions:\n",
        "    # np.dot, np.outer, np.heaviside\n",
        "    # Hint: Use .shape and print statements to make sure all operations\n",
        "    # do what you want them to\n",
        "    W_new = W - learning_rate * W_grad\n",
        "    b_new = b - learning_rate * b_grad\n",
        "    Wp_new = Wp - learning_rate * Wp_grad\n",
        "    bp_new = bp - learning_rate * bp_grad\n",
        "\n",
        "    # TODO: Update the weights/bias following the rule:  weight_new = weight_old - learning_rate * gradient\n",
        "\n",
        "    return W_new, b_new, Wp_new, bp_new # return the new weights"
      ]
    },
    {
      "cell_type": "markdown",
      "metadata": {
        "id": "guL8sB2ikQB3"
      },
      "source": [
        "# Training loop and evaluation below"
      ]
    },
    {
      "cell_type": "code",
      "execution_count": 8,
      "metadata": {
        "id": "uSr8cC6-kQB4"
      },
      "outputs": [
        {
          "name": "stderr",
          "output_type": "stream",
          "text": [
            "  0%|          | 0/1000 [00:00<?, ?it/s]"
          ]
        },
        {
          "name": "stderr",
          "output_type": "stream",
          "text": [
            "  0%|          | 2/1000 [00:00<02:44,  6.06it/s]"
          ]
        },
        {
          "name": "stdout",
          "output_type": "stream",
          "text": [
            "Epoch: 0 Train Loss: 0.6375079443686432 Test Loss: 0.643990315097502\n",
            "Epoch: 1 Train Loss: 0.5795160342030001 Test Loss: 0.5947150124572729\n"
          ]
        },
        {
          "name": "stderr",
          "output_type": "stream",
          "text": [
            "  0%|          | 4/1000 [00:00<02:39,  6.25it/s]"
          ]
        },
        {
          "name": "stdout",
          "output_type": "stream",
          "text": [
            "Epoch: 2 Train Loss: 0.5611216803478313 Test Loss: 0.5787159060053042\n",
            "Epoch: 3 Train Loss: 0.5508862508922375 Test Loss: 0.5707247542707172\n"
          ]
        },
        {
          "name": "stderr",
          "output_type": "stream",
          "text": [
            "  1%|          | 6/1000 [00:00<02:37,  6.29it/s]"
          ]
        },
        {
          "name": "stdout",
          "output_type": "stream",
          "text": [
            "Epoch: 4 Train Loss: 0.5449065781971013 Test Loss: 0.5655344173173232\n",
            "Epoch: 5 Train Loss: 0.5410641750752372 Test Loss: 0.5633829532701669\n"
          ]
        },
        {
          "name": "stderr",
          "output_type": "stream",
          "text": [
            "  1%|          | 8/1000 [00:01<02:35,  6.37it/s]"
          ]
        },
        {
          "name": "stdout",
          "output_type": "stream",
          "text": [
            "Epoch: 6 Train Loss: 0.5374398910758776 Test Loss: 0.5607306043447984\n",
            "Epoch: 7 Train Loss: 0.5346151803012591 Test Loss: 0.5593123743725582\n"
          ]
        },
        {
          "name": "stderr",
          "output_type": "stream",
          "text": [
            "  1%|          | 10/1000 [00:01<02:38,  6.23it/s]"
          ]
        },
        {
          "name": "stdout",
          "output_type": "stream",
          "text": [
            "Epoch: 8 Train Loss: 0.5319512149888934 Test Loss: 0.5576617536196126\n",
            "Epoch: 9 Train Loss: 0.5296286305739254 Test Loss: 0.5566505511895492\n"
          ]
        },
        {
          "name": "stderr",
          "output_type": "stream",
          "text": [
            "  1%|          | 12/1000 [00:01<02:39,  6.21it/s]"
          ]
        },
        {
          "name": "stdout",
          "output_type": "stream",
          "text": [
            "Epoch: 10 Train Loss: 0.5274463896134234 Test Loss: 0.5556739246008358\n",
            "Epoch: 11 Train Loss: 0.5251980694952858 Test Loss: 0.5547409094731706\n"
          ]
        },
        {
          "name": "stderr",
          "output_type": "stream",
          "text": [
            "  1%|▏         | 14/1000 [00:02<02:38,  6.22it/s]"
          ]
        },
        {
          "name": "stdout",
          "output_type": "stream",
          "text": [
            "Epoch: 12 Train Loss: 0.522990911854478 Test Loss: 0.5536799381827078\n",
            "Epoch: 13 Train Loss: 0.5210640854517745 Test Loss: 0.5523929030894033\n"
          ]
        },
        {
          "name": "stderr",
          "output_type": "stream",
          "text": [
            "  2%|▏         | 16/1000 [00:02<02:38,  6.22it/s]"
          ]
        },
        {
          "name": "stdout",
          "output_type": "stream",
          "text": [
            "Epoch: 14 Train Loss: 0.5189990998362138 Test Loss: 0.5512677151489843\n",
            "Epoch: 15 Train Loss: 0.5171474394509323 Test Loss: 0.5502951384019459\n"
          ]
        },
        {
          "name": "stderr",
          "output_type": "stream",
          "text": [
            "  2%|▏         | 18/1000 [00:02<02:36,  6.26it/s]"
          ]
        },
        {
          "name": "stdout",
          "output_type": "stream",
          "text": [
            "Epoch: 16 Train Loss: 0.5154868124780727 Test Loss: 0.5495364910074511\n",
            "Epoch: 17 Train Loss: 0.5137376760660219 Test Loss: 0.5487616820559529\n"
          ]
        },
        {
          "name": "stderr",
          "output_type": "stream",
          "text": [
            "  2%|▏         | 20/1000 [00:03<02:36,  6.24it/s]"
          ]
        },
        {
          "name": "stdout",
          "output_type": "stream",
          "text": [
            "Epoch: 18 Train Loss: 0.512221139112953 Test Loss: 0.5484407324815683\n",
            "Epoch: 19 Train Loss: 0.5102311190234337 Test Loss: 0.5478892370175239\n"
          ]
        },
        {
          "name": "stderr",
          "output_type": "stream",
          "text": [
            "  2%|▏         | 22/1000 [00:03<02:35,  6.28it/s]"
          ]
        },
        {
          "name": "stdout",
          "output_type": "stream",
          "text": [
            "Epoch: 20 Train Loss: 0.5085105804738044 Test Loss: 0.5473797077631086\n",
            "Epoch: 21 Train Loss: 0.5062713936883487 Test Loss: 0.5462693301754185\n"
          ]
        },
        {
          "name": "stderr",
          "output_type": "stream",
          "text": [
            "  2%|▏         | 24/1000 [00:03<02:35,  6.28it/s]"
          ]
        },
        {
          "name": "stdout",
          "output_type": "stream",
          "text": [
            "Epoch: 22 Train Loss: 0.5046125946674618 Test Loss: 0.5454861322568563\n",
            "Epoch: 23 Train Loss: 0.5032088045870486 Test Loss: 0.54489510493899\n"
          ]
        },
        {
          "name": "stderr",
          "output_type": "stream",
          "text": [
            "  3%|▎         | 26/1000 [00:04<02:34,  6.29it/s]"
          ]
        },
        {
          "name": "stdout",
          "output_type": "stream",
          "text": [
            "Epoch: 24 Train Loss: 0.5014949009005154 Test Loss: 0.5440088300112434\n",
            "Epoch: 25 Train Loss: 0.49968904002018394 Test Loss: 0.5429431690948171\n"
          ]
        },
        {
          "name": "stderr",
          "output_type": "stream",
          "text": [
            "  3%|▎         | 28/1000 [00:04<02:40,  6.06it/s]"
          ]
        },
        {
          "name": "stdout",
          "output_type": "stream",
          "text": [
            "Epoch: 26 Train Loss: 0.4982093995719243 Test Loss: 0.5423535984039484\n",
            "Epoch: 27 Train Loss: 0.49658486094726345 Test Loss: 0.5417158648895898\n"
          ]
        },
        {
          "name": "stderr",
          "output_type": "stream",
          "text": [
            "  3%|▎         | 30/1000 [00:04<02:36,  6.18it/s]"
          ]
        },
        {
          "name": "stdout",
          "output_type": "stream",
          "text": [
            "Epoch: 28 Train Loss: 0.49467237620544746 Test Loss: 0.540592134353917\n",
            "Epoch: 29 Train Loss: 0.4930583029191872 Test Loss: 0.5398039700355068\n"
          ]
        },
        {
          "name": "stderr",
          "output_type": "stream",
          "text": [
            "  3%|▎         | 32/1000 [00:05<02:35,  6.22it/s]"
          ]
        },
        {
          "name": "stdout",
          "output_type": "stream",
          "text": [
            "Epoch: 30 Train Loss: 0.4913332274975965 Test Loss: 0.5390156404612\n",
            "Epoch: 31 Train Loss: 0.48895936918295807 Test Loss: 0.5376574310076097\n"
          ]
        },
        {
          "name": "stderr",
          "output_type": "stream",
          "text": [
            "  3%|▎         | 34/1000 [00:05<02:33,  6.29it/s]"
          ]
        },
        {
          "name": "stdout",
          "output_type": "stream",
          "text": [
            "Epoch: 32 Train Loss: 0.48688623146776694 Test Loss: 0.5365530744488961\n",
            "Epoch: 33 Train Loss: 0.4847024177199247 Test Loss: 0.5355509909737849\n"
          ]
        },
        {
          "name": "stderr",
          "output_type": "stream",
          "text": [
            "  4%|▎         | 36/1000 [00:05<02:32,  6.32it/s]"
          ]
        },
        {
          "name": "stdout",
          "output_type": "stream",
          "text": [
            "Epoch: 34 Train Loss: 0.4830643393187873 Test Loss: 0.5348133294212952\n",
            "Epoch: 35 Train Loss: 0.4815267762679269 Test Loss: 0.5341469283522001\n"
          ]
        },
        {
          "name": "stderr",
          "output_type": "stream",
          "text": [
            "  4%|▍         | 38/1000 [00:06<02:31,  6.34it/s]"
          ]
        },
        {
          "name": "stdout",
          "output_type": "stream",
          "text": [
            "Epoch: 36 Train Loss: 0.48005202286099696 Test Loss: 0.5337410682468405\n",
            "Epoch: 37 Train Loss: 0.4784909801943922 Test Loss: 0.5327714025419478\n"
          ]
        },
        {
          "name": "stderr",
          "output_type": "stream",
          "text": [
            "  4%|▍         | 40/1000 [00:06<02:31,  6.34it/s]"
          ]
        },
        {
          "name": "stdout",
          "output_type": "stream",
          "text": [
            "Epoch: 38 Train Loss: 0.4771705842158342 Test Loss: 0.532498280494129\n",
            "Epoch: 39 Train Loss: 0.47540289853999085 Test Loss: 0.5314725455504413\n"
          ]
        },
        {
          "name": "stderr",
          "output_type": "stream",
          "text": [
            "  4%|▍         | 42/1000 [00:06<02:32,  6.29it/s]"
          ]
        },
        {
          "name": "stdout",
          "output_type": "stream",
          "text": [
            "Epoch: 40 Train Loss: 0.4745228030215271 Test Loss: 0.531921045620443\n",
            "Epoch: 41 Train Loss: 0.4733120578392176 Test Loss: 0.5318061278019272\n"
          ]
        },
        {
          "name": "stderr",
          "output_type": "stream",
          "text": [
            "  4%|▍         | 44/1000 [00:07<02:37,  6.08it/s]"
          ]
        },
        {
          "name": "stdout",
          "output_type": "stream",
          "text": [
            "Epoch: 42 Train Loss: 0.47194743157752744 Test Loss: 0.5316242051801966\n",
            "Epoch: 43 Train Loss: 0.4707310537028709 Test Loss: 0.5316464808685453\n"
          ]
        },
        {
          "name": "stderr",
          "output_type": "stream",
          "text": [
            "  5%|▍         | 46/1000 [00:07<02:33,  6.21it/s]"
          ]
        },
        {
          "name": "stdout",
          "output_type": "stream",
          "text": [
            "Epoch: 44 Train Loss: 0.46953664015042657 Test Loss: 0.5315745688505501\n",
            "Epoch: 45 Train Loss: 0.4683440495370055 Test Loss: 0.5315990676558564\n"
          ]
        },
        {
          "name": "stderr",
          "output_type": "stream",
          "text": [
            "  5%|▍         | 48/1000 [00:07<02:32,  6.25it/s]"
          ]
        },
        {
          "name": "stdout",
          "output_type": "stream",
          "text": [
            "Epoch: 46 Train Loss: 0.4672813222819393 Test Loss: 0.5316060878574806\n",
            "Epoch: 47 Train Loss: 0.46660952138940714 Test Loss: 0.5320387312327661\n"
          ]
        },
        {
          "name": "stderr",
          "output_type": "stream",
          "text": [
            "  5%|▍         | 48/1000 [00:07<02:35,  6.10it/s]\n"
          ]
        },
        {
          "name": "stdout",
          "output_type": "stream",
          "text": [
            "Epoch: 48 Train Loss: 0.4655445568111993 Test Loss: 0.5318651254129594\n",
            "Early stopping at epoch 48\n",
            "Best loss: 0.5314725455504413 Final loss: 0.5318651254129594\n",
            "Correlation coefficient: 0.5875912367738428\n"
          ]
        },
        {
          "data": {
            "image/png": "[encoded data removed]",
            "text/plain": [
              "<Figure size 640x480 with 1 Axes>"
            ]
          },
          "metadata": {},
          "output_type": "display_data"
        },
        {
          "data": {
            "image/png": "[encoded data removed]",
            "text/plain": [
              "<Figure size 640x480 with 1 Axes>"
            ]
          },
          "metadata": {},
          "output_type": "display_data"
        }
      ],
      "source": [
        "# The code below implements the training.\n",
        "# If you correctly implement  dnn and update_weights above,\n",
        "# you should not need to change anything below.\n",
        "# (apart from increasing the number of epochs)\n",
        "\n",
        "train_losses = []\n",
        "test_losses = []\n",
        "\n",
        "# How many epochs to train\n",
        "# This will just train for one epoch\n",
        "# You will want a higher number once everything works\n",
        "n_epochs = 1000\n",
        "\n",
        "# Loop over the epochs\n",
        "for ep in tqdm(range(n_epochs)):\n",
        "\n",
        "    # Each epoch is a complete over the training data\n",
        "    for i in range(X_train.shape[0]):\n",
        "\n",
        "        # pick one example\n",
        "        x = X_train[i]\n",
        "        y = y_train[i]\n",
        "\n",
        "        # use it to update the weights\n",
        "        W,b,Wp,bp = update_weights(x,y,W,b,Wp,bp)\n",
        "\n",
        "    # Calculate predictions for the full training and testing sample\n",
        "    y_pred_train = [dnn(x,W,b,Wp,bp)[0] for x in X_train]\n",
        "    y_pred = [dnn(x,W,b,Wp,bp)[0] for x in X_test]\n",
        "\n",
        "    # Calculate aver loss / example over the epoch\n",
        "    train_loss = sum((y_pred_train-y_train)**2) / y_train.shape[0]\n",
        "    test_loss = sum((y_pred-y_test)**2) / y_test.shape[0]\n",
        "\n",
        "    # print some information\n",
        "    print(\"Epoch:\",ep, \"Train Loss:\", train_loss, \"Test Loss:\", test_loss)\n",
        "\n",
        "    # and store the losses for later use\n",
        "    train_losses.append(train_loss)\n",
        "    test_losses.append(test_loss)\n",
        "\n",
        "    #implement early stopping\n",
        "    if ep > 10:\n",
        "        if np.mean([[test_losses[ep-6]], [test_losses[ep-5]], [test_losses[ep-4]]]) <= np.mean([[test_losses[ep-3]], [test_losses[ep-2]], [test_losses[ep-1]]]):\n",
        "            print(\"Early stopping at epoch\", ep)\n",
        "            break\n",
        "\n",
        "\n",
        "# After the training:\n",
        "\n",
        "# Prepare scatter plot\n",
        "y_pred = [dnn(x,W,b,Wp,bp)[0] for x in X_test]\n",
        "\n",
        "print(\"Best loss:\", min(test_losses), \"Final loss:\", test_losses[-1])\n",
        "\n",
        "print(\"Correlation coefficient:\", np.corrcoef(y_pred,y_test)[0,1])\n",
        "plt.scatter(y_pred_train,y_train)\n",
        "plt.xlabel(\"Predicted\")\n",
        "plt.ylabel(\"True\")\n",
        "plt.show()\n",
        "\n",
        "# Prepare and loss over time\n",
        "plt.plot(train_losses,label=\"train\")\n",
        "plt.plot(test_losses,label=\"test\")\n",
        "plt.legend()\n",
        "plt.xlabel(\"Epoch\")\n",
        "plt.ylabel(\"Loss\")\n",
        "plt.show()"
      ]
    },
    {
      "cell_type": "markdown",
      "metadata": {
        "id": "4Nen08epkQB4"
      },
      "source": [
        "# Hint 1"
      ]
    },
    {
      "cell_type": "markdown",
      "metadata": {
        "id": "escPUs3CkQB5"
      },
      "source": [
        "We want a network with one hidden layer. As activiation in the hidden layer $\\sigma$ we apply element-wise ReLu, while no activation is used for the output layer. The forward pass of the network then reads:\n",
        "$$\\hat{y}=\\mathbf{W}^{\\prime} \\sigma(\\mathbf{W} \\vec{x}+\\vec{b})+b^{\\prime}$$"
      ]
    },
    {
      "cell_type": "markdown",
      "metadata": {
        "id": "_DRDzLi2kQB5"
      },
      "source": [
        "# Hint 2"
      ]
    },
    {
      "cell_type": "markdown",
      "metadata": {
        "id": "GN01itNUkQB5"
      },
      "source": [
        "For the regression problem the objective function is the mean squared error between the prediction and the true label $y$:\n",
        "$$\n",
        "L=(\\hat{y}-y)^{2}\n",
        "$$\n",
        "\n",
        "Taking the partial derivatives - and diligently the applying chain rule - with respect to the different objects yields:\n",
        "\n",
        "$$\n",
        "\\begin{aligned}\n",
        "\\frac{\\partial L}{\\partial b^{\\prime}} &=2(\\hat{y}-y) \\\\\n",
        "\\frac{\\partial L}{\\partial b_{k}} &=2(\\hat{y}-y) \\mathbf{W}_{k}^{\\prime} \\theta\\left(\\sum_{i} \\mathbf{W}_{k i} x_{i}+b_{k}\\right) \\\\\n",
        "\\frac{\\partial L}{\\partial \\mathbf{W}_{k}^{\\prime}} &=2(\\hat{y}-y) \\sigma\\left(\\sum_{i} \\mathbf{W}_{k i} x_{i}+b_{k}\\right) \\\\\n",
        "\\frac{\\partial L}{\\partial \\mathbf{W}_{k m}} &=2(\\hat{y}-y) \\mathbf{W}_{m}^{\\prime} \\theta\\left(\\sum_{i} \\mathbf{W}_{m i} x_{i}+b_{m}\\right) x_{k}\n",
        "\\end{aligned}\n",
        "$$\n",
        "\n",
        "Here, $\\Theta$ denotes the Heaviside step function."
      ]
    },
    {
      "cell_type": "markdown",
      "metadata": {},
      "source": [
        "Generall Comment\n",
        "\n",
        "In Ex.4 I thought that the linear model we used was too simple to work on our data. In the exercise we use a slighly more complicated model than last time and we do indeed see a slightly better result and higher correlation coefficient. I also found that implementing early stopping was very good for testing different learning rates. If the model converged I dit not have to wait for the code to run over all epochs. The way I implemented early stopping was by after 10 epoch, for each epoch, check if the mean of the three latest values was higher than the mean of the three before them. In the beginning I also forgot to normalize my input features, which more or less resulted in the model being untrainable."
      ]
    }
  ],
  "metadata": {
    "colab": {
      "provenance": []
    },
    "kernelspec": {
      "display_name": "Python 3",
      "language": "python",
      "name": "python3"
    },
    "language_info": {
      "codemirror_mode": {
        "name": "ipython",
        "version": 3
      },
      "file_extension": ".py",
      "mimetype": "text/x-python",
      "name": "python",
      "nbconvert_exporter": "python",
      "pygments_lexer": "ipython3",
      "version": "3.9.17"
    }
  },
  "nbformat": 4,
  "nbformat_minor": 0
}
